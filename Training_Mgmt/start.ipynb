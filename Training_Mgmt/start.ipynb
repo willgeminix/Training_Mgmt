{
 "cells": [
  {
   "cell_type": "code",
   "execution_count": null,
   "id": "c111e664-d931-4070-8bbd-f9574b0f1cd3",
   "metadata": {},
   "outputs": [],
   "source": [
    "def start():\n",
    "    name = input(\"Please enter the user name:\")\n",
    "    try:\n",
    "        basic_info = pd.read_csv(os.getcwd()+\"\\\\\"+name+\"_person.csv\", header=True)\n",
    "        record_nutrition = pd.read_csv(os.getcwd()+\"\\\\\"+name+\"_nutrition.csv\", header=True)\n",
    "        record_exercise = pd.read_csv(os.getcwd()+\"\\\\\"+name+\"_exercise.csv\", header=True)\n",
    "    except:\n",
    "        print('The user does NOT exist. Please create the user first and restart.')\n",
    "        create()\n",
    "    person = Person(basic_info[\"name\"], basic_info[\"bdate\"].split(\"-\"), basic_info['height'], basic_info['weight'], basic_info['gender'], basic_info['purpose'])\n",
    "    return person, record_nutrition, record_exercise\n",
    "\n",
    "\n",
    "def create():\n",
    "    "
   ]
  }
 ],
 "metadata": {
  "kernelspec": {
   "display_name": "Python 3 (ipykernel)",
   "language": "python",
   "name": "python3"
  },
  "language_info": {
   "codemirror_mode": {
    "name": "ipython",
    "version": 3
   },
   "file_extension": ".py",
   "mimetype": "text/x-python",
   "name": "python",
   "nbconvert_exporter": "python",
   "pygments_lexer": "ipython3",
   "version": "3.11.5"
  }
 },
 "nbformat": 4,
 "nbformat_minor": 5
}
