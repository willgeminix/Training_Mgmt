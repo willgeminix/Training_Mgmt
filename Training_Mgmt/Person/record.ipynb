{
 "cells": [
  {
   "cell_type": "code",
   "execution_count": 82,
   "id": "a4bdba48-b34f-491f-bc06-5cb7927788c0",
   "metadata": {},
   "outputs": [],
   "source": [
    "import datetime\n",
    "import pandas as pd\n",
    "\n",
    "class Record(pd.DataFrame):\n",
    "    \n",
    "    def __init__(self, nutrition):\n",
    "        self.__history = nutrition\n",
    "        \n",
    "    def add(self, date, protein, carbon, fat):\n",
    "        calorie = protein/4 + carbon/4 + fat/9\n",
    "        new_record = pd.Series({\"Date\": pd.to_datetime(date), \"Calorie\": calorie, \"Protein\": protein, \"Carbon\": carbon, \"Fat\": fat})\n",
    "        self.__history.append(new_record)\n",
    "        \n",
    "    def remove(self, date):\n",
    "        print(\"Are you sure you want to delete the following record?\\n\",self.__history[self.__history[\"Date\"]==pd.to_datetime(datetime)])\n",
    "        while True:\n",
    "            check = input(\"\"\"Enter [1] for \"YES\"/ [2] for \"NO\" (\"q\" to quit):\"\"\")\n",
    "            if check == \"1\":\n",
    "                break\n",
    "            elif check == \"2\" or check == \"q\":\n",
    "                return None\n",
    "            else:\n",
    "                print(\"Invalid input, please re-enter\")\n",
    "                continue\n",
    "                \n",
    "        self.__history = self.__history[~(self.__history[\"Date\"] == pd.to_datetime(date))]\n",
    "    "
   ]
  }
 ],
 "metadata": {
  "kernelspec": {
   "display_name": "Python 3 (ipykernel)",
   "language": "python",
   "name": "python3"
  },
  "language_info": {
   "codemirror_mode": {
    "name": "ipython",
    "version": 3
   },
   "file_extension": ".py",
   "mimetype": "text/x-python",
   "name": "python",
   "nbconvert_exporter": "python",
   "pygments_lexer": "ipython3",
   "version": "3.11.5"
  }
 },
 "nbformat": 4,
 "nbformat_minor": 5
}
