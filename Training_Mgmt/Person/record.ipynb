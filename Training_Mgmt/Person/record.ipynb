{
 "cells": [
  {
   "cell_type": "code",
   "execution_count": 72,
   "id": "a4bdba48-b34f-491f-bc06-5cb7927788c0",
   "metadata": {},
   "outputs": [],
   "source": [
    "import datetime\n",
    "import pandas as pd\n",
    "import pygal\n",
    "from IPython.display import display\n",
    "from IPython.core.display import HTML\n",
    "\n",
    "class Record(pd.DataFrame):\n",
    "\n",
    "    def __init__(self, nutrition):\n",
    "        super().__init__(nutrition)\n",
    "        self.__record = nutrition\n",
    "        \n",
    "    def add(self, date, protein, carbon, fat):\n",
    "        calorie = protein*4 + carbon*4 + fat*9\n",
    "        new_record = pd.Series({\"Date\": pd.to_datetime(\"2023/01/01\").date(), \"Calorie\": calorie, \"Protein\": protein, \"Carbon\": carbon, \"Fat\": fat})\n",
    "        if self.__record[self.__record[\"Date\"]==pd.to_datetime(date)].empty:\n",
    "            new_data = self.__record.append(new_record, ignore_index=True)\n",
    "        else:\n",
    "            print(\"There has already been a record of the same date, please modify the record istead of adding a new one.\")\n",
    "            return Record(self.__record)\n",
    "        return Record(new_data)\n",
    "\n",
    "\n",
    "    def remove(self, date):\n",
    "        \n",
    "        record_to_remove = self.__record[self.__record[\"Date\"]==pd.to_datetime(date)]\n",
    "        if record_to_remove.empty:\n",
    "            print(\"The record does NOT exist!\")\n",
    "            return Record(self.__record)\n",
    "        else:\n",
    "            print(\"Are you sure you want to delete the following record?\\n\",record_to_remove)\n",
    "            \n",
    "        while True:\n",
    "            check = input(\"\"\"Enter [1] for \"YES\"/ [2] for \"NO\" (\"q\" to quit):\"\"\")\n",
    "            if check == \"1\":\n",
    "                break\n",
    "            elif check == \"2\" or check == \"q\":\n",
    "                return Record(self.__record)\n",
    "            else:\n",
    "                print(\"Invalid input, please re-enter.\")\n",
    "                continue\n",
    "                \n",
    "        new_data = self.__record[~(self.__record[\"Date\"] == pd.to_datetime(date))]\n",
    "        return Record(new_data)\n",
    "    \n",
    "        \n",
    "    def modify(self, date, protein, carbon, fat):\n",
    "        \n",
    "        row_to_modify = self.__record[self.__record[\"Date\"]==pd.to_datetime(date)]\n",
    "        if row_to_modify.empty:\n",
    "            print(\"The record does NOT exist! Please check and try again!\")\n",
    "            return Record(self.__record)\n",
    "        else:\n",
    "            print(\"The record you are going to change:\\n\", row_to_modify)\n",
    "            \n",
    "        while True:\n",
    "            check = input(\"\"\"Enter [1] for \"YES\"/ [2] for \"NO\" (\"q\" to quit):\"\"\")\n",
    "            if check == \"1\":\n",
    "                break\n",
    "            elif check == \"2\" or check == \"q\":\n",
    "                return Record(self.__record)\n",
    "            else:\n",
    "                print(\"Invalid input, please re-enter.\")\n",
    "                continue\n",
    "        \n",
    "        if protein != '':\n",
    "            self.__record.loc[row_to_modify.index[0], (\"Protein\",)] = protein\n",
    "        if carbon != '':\n",
    "            self.__record.loc[row_to_modify.index[0], (\"Carbon\",)] = carbon\n",
    "        if fat != '':\n",
    "            self.__record.loc[row_to_modify.index[0], (\"Fat\",)] = fat\n",
    "        self.__record.loc[row_to_modify.index[0], (\"Calorie\",)] = self.__record.loc[row_to_modify.index[0], (\"Protein\",)]*4 + self.__record.loc[row_to_modify.index[0], (\"Carbon\",)]*4 + self.__record.loc[row_to_modify.index[0], (\"Fat\",)]*9\n",
    "        new_data = self.__record\n",
    "        return Record(new_data)   \n",
    "\n",
    "    \n",
    "    def show(self, start_date, end_date, indicator=1):\n",
    "        \n",
    "        condition = (self.__record[\"Date\"] >= pd.to_datetime(start_date)) & (self.__record[\"Date\"] <= pd.to_datetime(end_date))\n",
    "        row_to_display = self.__record[condition]\n",
    "        if row_to_display.empty:\n",
    "            return \"There is NO record between the selected dates.\" \n",
    "        \n",
    "        # indicator == 1 means the user wants to display the record of Calories\n",
    "        if indicator == 1:\n",
    "            graph = pygal.Bar()\n",
    "            graph.title = \"Calorie Consumption Between {} and {}\".format(start_date, end_date)\n",
    "            graph.add(\"Calorie\", row_to_display[\"Calorie\"])\n",
    "            graph.x_labels = row_to_display[\"Date\"]\n",
    "            \n",
    "        # indicator != 1 means the user wants to display the record of other nutritions\n",
    "        else:\n",
    "            # pie chart will be used to display the nutritions of a single day\n",
    "            if len(row_to_display) == 1:\n",
    "                graph = pygal.Pie()\n",
    "                graph.title = \"Nutrition Consumption On {} (in g)\".format(row_to_display[\"Date\"].values[0])\n",
    "                graph.add(\"Protein\", row_to_display[\"Protein\"].values[0])\n",
    "                graph.add(\"Carbon\", row_to_display[\"Carbon\"].values[0])\n",
    "                graph.add(\"Fat\", row_to_display[\"Fat\"].values[0])\n",
    "                \n",
    "            # stackedline will be used to display the nutritions of multiple days\n",
    "            else:\n",
    "                graph = pygal.StackedLine(fill=True)\n",
    "                graph.title = \"Nutrition Consumption From {} to {} (in g)\".format(start_date, end_date)\n",
    "                for each in row_to_display.keys()[2:]:\n",
    "                    graph.add(each, row_to_display[each].to_list())\n",
    "                graph.x_labels = row_to_display[\"Date\"].to_list()\n",
    "        \n",
    "        # display the graph\n",
    "        graph_svg = graph.render(is_unicode=True)\n",
    "        display(HTML(graph_svg))"
   ]
  },
  {
   "cell_type": "code",
   "execution_count": 73,
   "id": "dc0d1128-b2d4-4d8b-b0f3-cab5641303b3",
   "metadata": {
    "tags": []
   },
   "outputs": [],
   "source": [
    "import pandas as pd\n",
    "\n",
    "nutrition = pd.DataFrame({\n",
    "    \"Date\": [\"2023/01/01\", \"2023/01/02\", \"2023/01/03\", \"2023/01/04\", \"2023/01/05\"],\n",
    "    \"Calorie\": [2838, 1736, 2521, 1864, 2239],\n",
    "    \"Protein\": [273, 176, 352, 61, 346],\n",
    "    \"Carbon\": [156, 198, 203, 127, 231],\n",
    "    \"Fat\": [283, 73, 199, 76, 230]})\n",
    "nutrition[\"Date\"] = pd.to_datetime(nutrition[\"Date\"])"
   ]
  },
  {
   "cell_type": "code",
   "execution_count": 74,
   "id": "29f6c66f-d369-4d68-8ef3-3ea716fb9014",
   "metadata": {
    "tags": []
   },
   "outputs": [
    {
     "data": {
      "text/html": [
       "<div>\n",
       "<style scoped>\n",
       "    .dataframe tbody tr th:only-of-type {\n",
       "        vertical-align: middle;\n",
       "    }\n",
       "\n",
       "    .dataframe tbody tr th {\n",
       "        vertical-align: top;\n",
       "    }\n",
       "\n",
       "    .dataframe thead th {\n",
       "        text-align: right;\n",
       "    }\n",
       "</style>\n",
       "<table border=\"1\" class=\"dataframe\">\n",
       "  <thead>\n",
       "    <tr style=\"text-align: right;\">\n",
       "      <th></th>\n",
       "      <th>Date</th>\n",
       "      <th>Calorie</th>\n",
       "      <th>Protein</th>\n",
       "      <th>Carbon</th>\n",
       "      <th>Fat</th>\n",
       "    </tr>\n",
       "  </thead>\n",
       "  <tbody>\n",
       "    <tr>\n",
       "      <th>0</th>\n",
       "      <td>2023-01-01</td>\n",
       "      <td>2838</td>\n",
       "      <td>273</td>\n",
       "      <td>156</td>\n",
       "      <td>283</td>\n",
       "    </tr>\n",
       "    <tr>\n",
       "      <th>1</th>\n",
       "      <td>2023-01-02</td>\n",
       "      <td>1736</td>\n",
       "      <td>176</td>\n",
       "      <td>198</td>\n",
       "      <td>73</td>\n",
       "    </tr>\n",
       "    <tr>\n",
       "      <th>2</th>\n",
       "      <td>2023-01-03</td>\n",
       "      <td>2521</td>\n",
       "      <td>352</td>\n",
       "      <td>203</td>\n",
       "      <td>199</td>\n",
       "    </tr>\n",
       "    <tr>\n",
       "      <th>3</th>\n",
       "      <td>2023-01-04</td>\n",
       "      <td>1864</td>\n",
       "      <td>61</td>\n",
       "      <td>127</td>\n",
       "      <td>76</td>\n",
       "    </tr>\n",
       "    <tr>\n",
       "      <th>4</th>\n",
       "      <td>2023-01-05</td>\n",
       "      <td>2239</td>\n",
       "      <td>346</td>\n",
       "      <td>231</td>\n",
       "      <td>230</td>\n",
       "    </tr>\n",
       "  </tbody>\n",
       "</table>\n",
       "</div>"
      ],
      "text/plain": [
       "        Date  Calorie  Protein  Carbon  Fat\n",
       "0 2023-01-01     2838      273     156  283\n",
       "1 2023-01-02     1736      176     198   73\n",
       "2 2023-01-03     2521      352     203  199\n",
       "3 2023-01-04     1864       61     127   76\n",
       "4 2023-01-05     2239      346     231  230"
      ]
     },
     "execution_count": 74,
     "metadata": {},
     "output_type": "execute_result"
    }
   ],
   "source": [
    "nutrition"
   ]
  },
  {
   "cell_type": "code",
   "execution_count": 75,
   "id": "92435dcb-264b-4a5f-a02f-fbe6a224da62",
   "metadata": {
    "tags": []
   },
   "outputs": [
    {
     "name": "stderr",
     "output_type": "stream",
     "text": [
      "C:\\Users\\xuxin\\AppData\\Local\\Temp\\ipykernel_23712\\3045552549.py:11: UserWarning: Pandas doesn't allow columns to be created via a new attribute name - see https://pandas.pydata.org/pandas-docs/stable/indexing.html#attribute-access\n",
      "  self.__record = nutrition\n"
     ]
    },
    {
     "data": {
      "text/plain": [
       "2838"
      ]
     },
     "execution_count": 75,
     "metadata": {},
     "output_type": "execute_result"
    }
   ],
   "source": [
    "r = Record(nutrition)\n",
    "r[\"Calorie\"][0]"
   ]
  },
  {
   "cell_type": "code",
   "execution_count": 76,
   "id": "51eb1e97-a1bf-4043-b4f7-c9fead8883e9",
   "metadata": {
    "tags": []
   },
   "outputs": [
    {
     "data": {
      "text/html": [
       "<?xml version='1.0' encoding='utf-8'?>\n",
       "<svg xmlns:xlink=\"http://www.w3.org/1999/xlink\" xmlns=\"http://www.w3.org/2000/svg\" id=\"chart-d02f8f41-795f-4412-8ad0-3a4f79262b35\" class=\"pygal-chart\" viewBox=\"0 0 800 600\"><!--Generated with pygal 3.0.1 (etree) ©Kozea 2012-2016 on 2023-12-01--><!--http://pygal.org--><!--http://github.com/Kozea/pygal--><defs><style type=\"text/css\">#chart-d02f8f41-795f-4412-8ad0-3a4f79262b35{-webkit-user-select:none;-webkit-font-smoothing:antialiased;font-family:Consolas,\"Liberation Mono\",Menlo,Courier,monospace}#chart-d02f8f41-795f-4412-8ad0-3a4f79262b35 .title{font-family:Consolas,\"Liberation Mono\",Menlo,Courier,monospace;font-size:16px}#chart-d02f8f41-795f-4412-8ad0-3a4f79262b35 .legends .legend text{font-family:Consolas,\"Liberation Mono\",Menlo,Courier,monospace;font-size:14px}#chart-d02f8f41-795f-4412-8ad0-3a4f79262b35 .axis text{font-family:Consolas,\"Liberation Mono\",Menlo,Courier,monospace;font-size:10px}#chart-d02f8f41-795f-4412-8ad0-3a4f79262b35 .axis text.major{font-family:Consolas,\"Liberation Mono\",Menlo,Courier,monospace;font-size:10px}#chart-d02f8f41-795f-4412-8ad0-3a4f79262b35 .text-overlay text.value{font-family:Consolas,\"Liberation Mono\",Menlo,Courier,monospace;font-size:16px}#chart-d02f8f41-795f-4412-8ad0-3a4f79262b35 .text-overlay text.label{font-family:Consolas,\"Liberation Mono\",Menlo,Courier,monospace;font-size:10px}#chart-d02f8f41-795f-4412-8ad0-3a4f79262b35 .tooltip{font-family:Consolas,\"Liberation Mono\",Menlo,Courier,monospace;font-size:14px}#chart-d02f8f41-795f-4412-8ad0-3a4f79262b35 text.no_data{font-family:Consolas,\"Liberation Mono\",Menlo,Courier,monospace;font-size:64px}\n",
       "#chart-d02f8f41-795f-4412-8ad0-3a4f79262b35{background-color:rgba(249,249,249,1)}#chart-d02f8f41-795f-4412-8ad0-3a4f79262b35 path,#chart-d02f8f41-795f-4412-8ad0-3a4f79262b35 line,#chart-d02f8f41-795f-4412-8ad0-3a4f79262b35 rect,#chart-d02f8f41-795f-4412-8ad0-3a4f79262b35 circle{-webkit-transition:150ms;-moz-transition:150ms;transition:150ms}#chart-d02f8f41-795f-4412-8ad0-3a4f79262b35 .graph &gt; .background{fill:rgba(249,249,249,1)}#chart-d02f8f41-795f-4412-8ad0-3a4f79262b35 .plot &gt; .background{fill:rgba(255,255,255,1)}#chart-d02f8f41-795f-4412-8ad0-3a4f79262b35 .graph{fill:rgba(0,0,0,.87)}#chart-d02f8f41-795f-4412-8ad0-3a4f79262b35 text.no_data{fill:rgba(0,0,0,1)}#chart-d02f8f41-795f-4412-8ad0-3a4f79262b35 .title{fill:rgba(0,0,0,1)}#chart-d02f8f41-795f-4412-8ad0-3a4f79262b35 .legends .legend text{fill:rgba(0,0,0,.87)}#chart-d02f8f41-795f-4412-8ad0-3a4f79262b35 .legends .legend:hover text{fill:rgba(0,0,0,1)}#chart-d02f8f41-795f-4412-8ad0-3a4f79262b35 .axis .line{stroke:rgba(0,0,0,1)}#chart-d02f8f41-795f-4412-8ad0-3a4f79262b35 .axis .guide.line{stroke:rgba(0,0,0,.54)}#chart-d02f8f41-795f-4412-8ad0-3a4f79262b35 .axis .major.line{stroke:rgba(0,0,0,.87)}#chart-d02f8f41-795f-4412-8ad0-3a4f79262b35 .axis text.major{fill:rgba(0,0,0,1)}#chart-d02f8f41-795f-4412-8ad0-3a4f79262b35 .axis.y .guides:hover .guide.line,#chart-d02f8f41-795f-4412-8ad0-3a4f79262b35 .line-graph .axis.x .guides:hover .guide.line,#chart-d02f8f41-795f-4412-8ad0-3a4f79262b35 .stackedline-graph .axis.x .guides:hover .guide.line,#chart-d02f8f41-795f-4412-8ad0-3a4f79262b35 .xy-graph .axis.x .guides:hover .guide.line{stroke:rgba(0,0,0,1)}#chart-d02f8f41-795f-4412-8ad0-3a4f79262b35 .axis .guides:hover text{fill:rgba(0,0,0,1)}#chart-d02f8f41-795f-4412-8ad0-3a4f79262b35 .reactive{fill-opacity:.7;stroke-opacity:.8;stroke-width:1}#chart-d02f8f41-795f-4412-8ad0-3a4f79262b35 .ci{stroke:rgba(0,0,0,.87)}#chart-d02f8f41-795f-4412-8ad0-3a4f79262b35 .reactive.active,#chart-d02f8f41-795f-4412-8ad0-3a4f79262b35 .active .reactive{fill-opacity:.8;stroke-opacity:.9;stroke-width:4}#chart-d02f8f41-795f-4412-8ad0-3a4f79262b35 .ci .reactive.active{stroke-width:1.5}#chart-d02f8f41-795f-4412-8ad0-3a4f79262b35 .series text{fill:rgba(0,0,0,1)}#chart-d02f8f41-795f-4412-8ad0-3a4f79262b35 .tooltip rect{fill:rgba(255,255,255,1);stroke:rgba(0,0,0,1);-webkit-transition:opacity 150ms;-moz-transition:opacity 150ms;transition:opacity 150ms}#chart-d02f8f41-795f-4412-8ad0-3a4f79262b35 .tooltip .label{fill:rgba(0,0,0,.87)}#chart-d02f8f41-795f-4412-8ad0-3a4f79262b35 .tooltip .label{fill:rgba(0,0,0,.87)}#chart-d02f8f41-795f-4412-8ad0-3a4f79262b35 .tooltip .legend{font-size:.8em;fill:rgba(0,0,0,.54)}#chart-d02f8f41-795f-4412-8ad0-3a4f79262b35 .tooltip .x_label{font-size:.6em;fill:rgba(0,0,0,1)}#chart-d02f8f41-795f-4412-8ad0-3a4f79262b35 .tooltip .xlink{font-size:.5em;text-decoration:underline}#chart-d02f8f41-795f-4412-8ad0-3a4f79262b35 .tooltip .value{font-size:1.5em}#chart-d02f8f41-795f-4412-8ad0-3a4f79262b35 .bound{font-size:.5em}#chart-d02f8f41-795f-4412-8ad0-3a4f79262b35 .max-value{font-size:.75em;fill:rgba(0,0,0,.54)}#chart-d02f8f41-795f-4412-8ad0-3a4f79262b35 .map-element{fill:rgba(255,255,255,1);stroke:rgba(0,0,0,.54) !important}#chart-d02f8f41-795f-4412-8ad0-3a4f79262b35 .map-element .reactive{fill-opacity:inherit;stroke-opacity:inherit}#chart-d02f8f41-795f-4412-8ad0-3a4f79262b35 .color-0,#chart-d02f8f41-795f-4412-8ad0-3a4f79262b35 .color-0 a:visited{stroke:#F44336;fill:#F44336}#chart-d02f8f41-795f-4412-8ad0-3a4f79262b35 .color-1,#chart-d02f8f41-795f-4412-8ad0-3a4f79262b35 .color-1 a:visited{stroke:#3F51B5;fill:#3F51B5}#chart-d02f8f41-795f-4412-8ad0-3a4f79262b35 .color-2,#chart-d02f8f41-795f-4412-8ad0-3a4f79262b35 .color-2 a:visited{stroke:#009688;fill:#009688}#chart-d02f8f41-795f-4412-8ad0-3a4f79262b35 .text-overlay .color-0 text{fill:black}#chart-d02f8f41-795f-4412-8ad0-3a4f79262b35 .text-overlay .color-1 text{fill:black}#chart-d02f8f41-795f-4412-8ad0-3a4f79262b35 .text-overlay .color-2 text{fill:black}\n",
       "#chart-d02f8f41-795f-4412-8ad0-3a4f79262b35 text.no_data{text-anchor:middle}#chart-d02f8f41-795f-4412-8ad0-3a4f79262b35 .guide.line{fill:none}#chart-d02f8f41-795f-4412-8ad0-3a4f79262b35 .centered{text-anchor:middle}#chart-d02f8f41-795f-4412-8ad0-3a4f79262b35 .title{text-anchor:middle}#chart-d02f8f41-795f-4412-8ad0-3a4f79262b35 .legends .legend text{fill-opacity:1}#chart-d02f8f41-795f-4412-8ad0-3a4f79262b35 .axis.x text{text-anchor:middle}#chart-d02f8f41-795f-4412-8ad0-3a4f79262b35 .axis.x:not(.web) text[transform]{text-anchor:start}#chart-d02f8f41-795f-4412-8ad0-3a4f79262b35 .axis.x:not(.web) text[transform].backwards{text-anchor:end}#chart-d02f8f41-795f-4412-8ad0-3a4f79262b35 .axis.y text{text-anchor:end}#chart-d02f8f41-795f-4412-8ad0-3a4f79262b35 .axis.y text[transform].backwards{text-anchor:start}#chart-d02f8f41-795f-4412-8ad0-3a4f79262b35 .axis.y2 text{text-anchor:start}#chart-d02f8f41-795f-4412-8ad0-3a4f79262b35 .axis.y2 text[transform].backwards{text-anchor:end}#chart-d02f8f41-795f-4412-8ad0-3a4f79262b35 .axis .guide.line{stroke-dasharray:4,4;stroke:black}#chart-d02f8f41-795f-4412-8ad0-3a4f79262b35 .axis .major.guide.line{stroke-dasharray:6,6;stroke:black}#chart-d02f8f41-795f-4412-8ad0-3a4f79262b35 .horizontal .axis.y .guide.line,#chart-d02f8f41-795f-4412-8ad0-3a4f79262b35 .horizontal .axis.y2 .guide.line,#chart-d02f8f41-795f-4412-8ad0-3a4f79262b35 .vertical .axis.x .guide.line{opacity:0}#chart-d02f8f41-795f-4412-8ad0-3a4f79262b35 .horizontal .axis.always_show .guide.line,#chart-d02f8f41-795f-4412-8ad0-3a4f79262b35 .vertical .axis.always_show .guide.line{opacity:1 !important}#chart-d02f8f41-795f-4412-8ad0-3a4f79262b35 .axis.y .guides:hover .guide.line,#chart-d02f8f41-795f-4412-8ad0-3a4f79262b35 .axis.y2 .guides:hover .guide.line,#chart-d02f8f41-795f-4412-8ad0-3a4f79262b35 .axis.x .guides:hover .guide.line{opacity:1}#chart-d02f8f41-795f-4412-8ad0-3a4f79262b35 .axis .guides:hover text{opacity:1}#chart-d02f8f41-795f-4412-8ad0-3a4f79262b35 .nofill{fill:none}#chart-d02f8f41-795f-4412-8ad0-3a4f79262b35 .subtle-fill{fill-opacity:.2}#chart-d02f8f41-795f-4412-8ad0-3a4f79262b35 .dot{stroke-width:1px;fill-opacity:1;stroke-opacity:1}#chart-d02f8f41-795f-4412-8ad0-3a4f79262b35 .dot.active{stroke-width:5px}#chart-d02f8f41-795f-4412-8ad0-3a4f79262b35 .dot.negative{fill:transparent}#chart-d02f8f41-795f-4412-8ad0-3a4f79262b35 text,#chart-d02f8f41-795f-4412-8ad0-3a4f79262b35 tspan{stroke:none !important}#chart-d02f8f41-795f-4412-8ad0-3a4f79262b35 .series text.active{opacity:1}#chart-d02f8f41-795f-4412-8ad0-3a4f79262b35 .tooltip rect{fill-opacity:.95;stroke-width:.5}#chart-d02f8f41-795f-4412-8ad0-3a4f79262b35 .tooltip text{fill-opacity:1}#chart-d02f8f41-795f-4412-8ad0-3a4f79262b35 .showable{visibility:hidden}#chart-d02f8f41-795f-4412-8ad0-3a4f79262b35 .showable.shown{visibility:visible}#chart-d02f8f41-795f-4412-8ad0-3a4f79262b35 .gauge-background{fill:rgba(229,229,229,1);stroke:none}#chart-d02f8f41-795f-4412-8ad0-3a4f79262b35 .bg-lines{stroke:rgba(249,249,249,1);stroke-width:2px}</style><script type=\"text/javascript\">window.pygal = window.pygal || {};window.pygal.config = window.pygal.config || {};window.pygal.config['d02f8f41-795f-4412-8ad0-3a4f79262b35'] = {\"allow_interruptions\": false, \"box_mode\": \"extremes\", \"classes\": [\"pygal-chart\"], \"css\": [\"file://style.css\", \"file://graph.css\"], \"defs\": [], \"disable_xml_declaration\": false, \"dots_size\": 2.5, \"dynamic_print_values\": false, \"explicit_size\": false, \"fill\": true, \"force_uri_protocol\": \"https\", \"formatter\": null, \"half_pie\": false, \"height\": 600, \"include_x_axis\": false, \"inner_radius\": 0, \"interpolate\": null, \"interpolation_parameters\": {}, \"interpolation_precision\": 250, \"inverse_y_axis\": false, \"js\": [\"//kozea.github.io/pygal.js/2.0.x/pygal-tooltips.min.js\"], \"legend_at_bottom\": false, \"legend_at_bottom_columns\": null, \"legend_box_size\": 12, \"logarithmic\": false, \"margin\": 20, \"margin_bottom\": null, \"margin_left\": null, \"margin_right\": null, \"margin_top\": null, \"max_scale\": 16, \"min_scale\": 4, \"missing_value_fill_truncation\": \"x\", \"no_data_text\": \"No data\", \"no_prefix\": false, \"order_min\": null, \"pretty_print\": false, \"print_labels\": false, \"print_values\": false, \"print_values_position\": \"center\", \"print_zeroes\": true, \"range\": null, \"rounded_bars\": null, \"secondary_range\": null, \"show_dots\": true, \"show_legend\": true, \"show_minor_x_labels\": true, \"show_minor_y_labels\": true, \"show_only_major_dots\": false, \"show_x_guides\": false, \"show_x_labels\": true, \"show_y_guides\": true, \"show_y_labels\": true, \"spacing\": 10, \"stack_from_top\": false, \"strict\": false, \"stroke\": true, \"stroke_style\": null, \"style\": {\"background\": \"rgba(249, 249, 249, 1)\", \"ci_colors\": [], \"colors\": [\"#F44336\", \"#3F51B5\", \"#009688\", \"#FFC107\", \"#FF5722\", \"#9C27B0\", \"#03A9F4\", \"#8BC34A\", \"#FF9800\", \"#E91E63\", \"#2196F3\", \"#4CAF50\", \"#FFEB3B\", \"#673AB7\", \"#00BCD4\", \"#CDDC39\", \"#9E9E9E\", \"#607D8B\"], \"dot_opacity\": \"1\", \"font_family\": \"Consolas, \\\"Liberation Mono\\\", Menlo, Courier, monospace\", \"foreground\": \"rgba(0, 0, 0, .87)\", \"foreground_strong\": \"rgba(0, 0, 0, 1)\", \"foreground_subtle\": \"rgba(0, 0, 0, .54)\", \"guide_stroke_color\": \"black\", \"guide_stroke_dasharray\": \"4,4\", \"label_font_family\": \"Consolas, \\\"Liberation Mono\\\", Menlo, Courier, monospace\", \"label_font_size\": 10, \"legend_font_family\": \"Consolas, \\\"Liberation Mono\\\", Menlo, Courier, monospace\", \"legend_font_size\": 14, \"major_guide_stroke_color\": \"black\", \"major_guide_stroke_dasharray\": \"6,6\", \"major_label_font_family\": \"Consolas, \\\"Liberation Mono\\\", Menlo, Courier, monospace\", \"major_label_font_size\": 10, \"no_data_font_family\": \"Consolas, \\\"Liberation Mono\\\", Menlo, Courier, monospace\", \"no_data_font_size\": 64, \"opacity\": \".7\", \"opacity_hover\": \".8\", \"plot_background\": \"rgba(255, 255, 255, 1)\", \"stroke_opacity\": \".8\", \"stroke_opacity_hover\": \".9\", \"stroke_width\": \"1\", \"stroke_width_hover\": \"4\", \"title_font_family\": \"Consolas, \\\"Liberation Mono\\\", Menlo, Courier, monospace\", \"title_font_size\": 16, \"tooltip_font_family\": \"Consolas, \\\"Liberation Mono\\\", Menlo, Courier, monospace\", \"tooltip_font_size\": 14, \"transition\": \"150ms\", \"value_background\": \"rgba(229, 229, 229, 1)\", \"value_colors\": [], \"value_font_family\": \"Consolas, \\\"Liberation Mono\\\", Menlo, Courier, monospace\", \"value_font_size\": 16, \"value_label_font_family\": \"Consolas, \\\"Liberation Mono\\\", Menlo, Courier, monospace\", \"value_label_font_size\": 10}, \"title\": \"Nutrition Consumption From 2023-01-01 to 2023-01-05 (in g)\", \"tooltip_border_radius\": 0, \"tooltip_fancy_mode\": true, \"truncate_label\": null, \"truncate_legend\": null, \"width\": 800, \"x_label_rotation\": 0, \"x_labels\": [\"2023-01-01T00:00:00\", \"2023-01-02T00:00:00\", \"2023-01-03T00:00:00\", \"2023-01-04T00:00:00\", \"2023-01-05T00:00:00\"], \"x_labels_major\": null, \"x_labels_major_count\": null, \"x_labels_major_every\": null, \"x_title\": null, \"xrange\": null, \"y_label_rotation\": 0, \"y_labels\": null, \"y_labels_major\": null, \"y_labels_major_count\": null, \"y_labels_major_every\": null, \"y_title\": null, \"zero\": 0, \"legends\": [\"Protein\", \"Carbon\", \"Fat\"]}</script><script type=\"text/javascript\" xlink:href=\"https://kozea.github.io/pygal.js/2.0.x/pygal-tooltips.min.js\" /></defs><title>Nutrition Consumption From 2023-01-01 to 2023-01-05 (in g)</title><g class=\"graph stackedline-graph vertical\"><rect x=\"0\" y=\"0\" width=\"800\" height=\"600\" class=\"background\" /><g transform=\"translate(128, 46)\" class=\"plot\"><rect x=\"0\" y=\"0\" width=\"651.2\" height=\"514\" class=\"background\" /><g class=\"axis y always_show\"><path d=\"M0.000000 514.000000 h651.200000\" class=\"line\" /><g class=\"guides\"><path d=\"M0.000000 478.277583 h651.200000\" class=\"guide line\" /><text x=\"-5\" y=\"481.7775830068055\" class=\"\">100</text><title>100</title></g><g class=\"guides\"><path d=\"M0.000000 412.026810 h651.200000\" class=\"guide line\" /><text x=\"-5\" y=\"415.52680965147454\" class=\"\">200</text><title>200</title></g><g class=\"guides\"><path d=\"M0.000000 345.776036 h651.200000\" class=\"guide line\" /><text x=\"-5\" y=\"349.2760362961435\" class=\"\">300</text><title>300</title></g><g class=\"guides\"><path d=\"M0.000000 279.525263 h651.200000\" class=\"guide line\" /><text x=\"-5\" y=\"283.02526294081247\" class=\"\">400</text><title>400</title></g><g class=\"guides\"><path d=\"M0.000000 213.274490 h651.200000\" class=\"major guide line\" /><text x=\"-5\" y=\"216.7744895854815\" class=\"major\">500</text><title>500</title></g><g class=\"guides\"><path d=\"M0.000000 147.023716 h651.200000\" class=\"guide line\" /><text x=\"-5\" y=\"150.5237162301505\" class=\"\">600</text><title>600</title></g><g class=\"guides\"><path d=\"M0.000000 80.772943 h651.200000\" class=\"guide line\" /><text x=\"-5\" y=\"84.27294287481948\" class=\"\">700</text><title>700</title></g><g class=\"guides\"><path d=\"M0.000000 14.522170 h651.200000\" class=\"guide line\" /><text x=\"-5\" y=\"18.0221695194885\" class=\"\">800</text><title>800</title></g></g><g class=\"axis x\"><g class=\"guides\"><path d=\"M12.523077 0.000000 v514.000000\" class=\"line\" /><text x=\"12.523076923076923\" y=\"529.0\" class=\"\">2023-01-01T00:00:00</text></g><g class=\"guides\"><path d=\"M169.061538 0.000000 v514.000000\" class=\"guide line\" /><text x=\"169.06153846153848\" y=\"529.0\" class=\"\">2023-01-02T00:00:00</text></g><g class=\"guides\"><path d=\"M325.600000 0.000000 v514.000000\" class=\"guide line\" /><text x=\"325.6\" y=\"529.0\" class=\"\">2023-01-03T00:00:00</text></g><g class=\"guides\"><path d=\"M482.138462 0.000000 v514.000000\" class=\"guide line\" /><text x=\"482.13846153846157\" y=\"529.0\" class=\"\">2023-01-04T00:00:00</text></g><g class=\"guides\"><path d=\"M638.676923 0.000000 v514.000000\" class=\"guide line\" /><text x=\"638.6769230769231\" y=\"529.0\" class=\"\">2023-01-05T00:00:00</text></g></g><g class=\"series serie-0 color-0\"><path d=\"M12.523077 514.000000 L12.523077 363.663745 169.061538 427.926995 325.600000 311.325634 482.138462 504.115385 638.676923 315.300681 638.676923 514.000000\" class=\"line reactive\" /></g><g class=\"series serie-1 color-1\"><path d=\"M12.523077 260.312539 L169.061538 296.750464 325.600000 176.836564 482.138462 419.976902 638.676923 162.261394 638.676923 315.300681 482.138462 504.115385 325.600000 311.325634 169.061538 427.926995 12.523077 363.663745\" class=\"line reactive\" /></g><g class=\"series serie-2 color-2\"><path d=\"M12.523077 72.822850 L169.061538 248.387399 325.600000 44.997525 482.138462 369.626315 638.676923 9.884615 638.676923 162.261394 482.138462 419.976902 325.600000 176.836564 169.061538 296.750464 12.523077 260.312539\" class=\"line reactive\" /></g></g><g class=\"titles\"><text x=\"400.0\" y=\"26\" class=\"title plot_title\">Nutrition Consumption From 2023-01-01 to 2023-01-05 (in g)</text></g><g transform=\"translate(128, 46)\" class=\"plot overlay\"><g class=\"series serie-0 color-0\"><g class=\"dots\"><circle cx=\"12.523076923076923\" cy=\"363.6637451020829\" r=\"2.5\" class=\"dot reactive tooltip-trigger\" /><desc class=\"value\">273</desc><desc class=\"x top\">12.523076923076923</desc><desc class=\"y top\">363.6637451020829</desc><desc class=\"x_label\">2023-01-01T00:00:00</desc></g><g class=\"dots\"><circle cx=\"169.06153846153848\" cy=\"427.92699525675397\" r=\"2.5\" class=\"dot reactive tooltip-trigger\" /><desc class=\"value\">176</desc><desc class=\"x top\">169.06153846153848</desc><desc class=\"y top\">427.92699525675397</desc><desc class=\"x_label\">2023-01-02T00:00:00</desc></g><g class=\"dots\"><circle cx=\"325.6\" cy=\"311.3256341513714\" r=\"2.5\" class=\"dot reactive tooltip-trigger\" /><desc class=\"value\">352</desc><desc class=\"x top\">325.6</desc><desc class=\"y top\">311.3256341513714</desc><desc class=\"x_label\">2023-01-03T00:00:00</desc></g><g class=\"dots\"><circle cx=\"482.13846153846157\" cy=\"504.11538461538464\" r=\"2.5\" class=\"dot reactive tooltip-trigger\" /><desc class=\"value\">61</desc><desc class=\"x left top\">482.13846153846157</desc><desc class=\"y left top\">504.11538461538464</desc><desc class=\"x_label\">2023-01-04T00:00:00</desc></g><g class=\"dots\"><circle cx=\"638.6769230769231\" cy=\"315.30068055269123\" r=\"2.5\" class=\"dot reactive tooltip-trigger\" /><desc class=\"value\">346</desc><desc class=\"x left top\">638.6769230769231</desc><desc class=\"y left top\">315.30068055269123</desc><desc class=\"x_label\">2023-01-05T00:00:00</desc></g></g><g class=\"series serie-1 color-1\"><g class=\"dots\"><circle cx=\"12.523076923076923\" cy=\"260.3125386677665\" r=\"2.5\" class=\"dot reactive tooltip-trigger\" /><desc class=\"value\">429 (+156)</desc><desc class=\"x top\">12.523076923076923</desc><desc class=\"y top\">260.3125386677665</desc><desc class=\"x_label\">2023-01-01T00:00:00</desc></g><g class=\"dots\"><circle cx=\"169.06153846153848\" cy=\"296.75046401319855\" r=\"2.5\" class=\"dot reactive tooltip-trigger\" /><desc class=\"value\">374 (+198)</desc><desc class=\"x top\">169.06153846153848</desc><desc class=\"y top\">296.75046401319855</desc><desc class=\"x_label\">2023-01-02T00:00:00</desc></g><g class=\"dots\"><circle cx=\"325.6\" cy=\"176.83656424004943\" r=\"2.5\" class=\"dot reactive tooltip-trigger\" /><desc class=\"value\">555 (+203)</desc><desc class=\"x \">325.6</desc><desc class=\"y \">176.83656424004943</desc><desc class=\"x_label\">2023-01-03T00:00:00</desc></g><g class=\"dots\"><circle cx=\"482.13846153846157\" cy=\"419.9769024541142\" r=\"2.5\" class=\"dot reactive tooltip-trigger\" /><desc class=\"value\">188 (+127)</desc><desc class=\"x left top\">482.13846153846157</desc><desc class=\"y left top\">419.9769024541142</desc><desc class=\"x_label\">2023-01-04T00:00:00</desc></g><g class=\"dots\"><circle cx=\"638.6769230769231\" cy=\"162.26139410187665\" r=\"2.5\" class=\"dot reactive tooltip-trigger\" /><desc class=\"value\">577 (+231)</desc><desc class=\"x left\">638.6769230769231</desc><desc class=\"y left\">162.26139410187665</desc><desc class=\"x_label\">2023-01-05T00:00:00</desc></g></g><g class=\"series serie-2 color-2\"><g class=\"dots\"><circle cx=\"12.523076923076923\" cy=\"72.82285007217979\" r=\"2.5\" class=\"dot reactive tooltip-trigger\" /><desc class=\"value\">712 (+283)</desc><desc class=\"x \">12.523076923076923</desc><desc class=\"y \">72.82285007217979</desc><desc class=\"x_label\">2023-01-01T00:00:00</desc></g><g class=\"dots\"><circle cx=\"169.06153846153848\" cy=\"248.38739946380696\" r=\"2.5\" class=\"dot reactive tooltip-trigger\" /><desc class=\"value\">447 (+73)</desc><desc class=\"x \">169.06153846153848</desc><desc class=\"y \">248.38739946380696</desc><desc class=\"x_label\">2023-01-02T00:00:00</desc></g><g class=\"dots\"><circle cx=\"325.6\" cy=\"44.99752526294077\" r=\"2.5\" class=\"dot reactive tooltip-trigger\" /><desc class=\"value\">754 (+199)</desc><desc class=\"x \">325.6</desc><desc class=\"y \">44.99752526294077</desc><desc class=\"x_label\">2023-01-03T00:00:00</desc></g><g class=\"dots\"><circle cx=\"482.13846153846157\" cy=\"369.6263147040627\" r=\"2.5\" class=\"dot reactive tooltip-trigger\" /><desc class=\"value\">264 (+76)</desc><desc class=\"x left top\">482.13846153846157</desc><desc class=\"y left top\">369.6263147040627</desc><desc class=\"x_label\">2023-01-04T00:00:00</desc></g><g class=\"dots\"><circle cx=\"638.6769230769231\" cy=\"9.884615384615302\" r=\"2.5\" class=\"dot reactive tooltip-trigger\" /><desc class=\"value\">807 (+230)</desc><desc class=\"x left\">638.6769230769231</desc><desc class=\"y left\">9.884615384615302</desc><desc class=\"x_label\">2023-01-05T00:00:00</desc></g></g></g><g transform=\"translate(128, 46)\" class=\"plot text-overlay\"><g class=\"series serie-0 color-0\" /><g class=\"series serie-1 color-1\" /><g class=\"series serie-2 color-2\" /></g><g transform=\"translate(128, 46)\" class=\"plot tooltip-overlay\"><g transform=\"translate(0 0)\" style=\"opacity: 0\" class=\"tooltip\"><rect rx=\"0\" ry=\"0\" width=\"0\" height=\"0\" class=\"tooltip-box\" /><g class=\"text\" /></g></g><g transform=\"translate(10, 56)\" class=\"legends\"><g id=\"activate-serie-0\" class=\"legend reactive activate-serie\"><rect x=\"0.0\" y=\"1.0\" width=\"12\" height=\"12\" class=\"color-0 reactive\" /><text x=\"17.0\" y=\"11.2\">Protein</text></g><g id=\"activate-serie-1\" class=\"legend reactive activate-serie\"><rect x=\"0.0\" y=\"22.0\" width=\"12\" height=\"12\" class=\"color-1 reactive\" /><text x=\"17.0\" y=\"32.2\">Carbon</text></g><g id=\"activate-serie-2\" class=\"legend reactive activate-serie\"><rect x=\"0.0\" y=\"43.0\" width=\"12\" height=\"12\" class=\"color-2 reactive\" /><text x=\"17.0\" y=\"53.2\">Fat</text></g></g><g transform=\"translate(790, 56)\" class=\"legends\" /></g></svg>"
      ],
      "text/plain": [
       "<IPython.core.display.HTML object>"
      ]
     },
     "metadata": {},
     "output_type": "display_data"
    }
   ],
   "source": [
    "r.show(\"2023-01-01\", \"2023-01-05\", 2)"
   ]
  },
  {
   "cell_type": "code",
   "execution_count": 77,
   "id": "b8c74c8d-0f11-4fa2-9aef-dddca8e401e7",
   "metadata": {
    "tags": []
   },
   "outputs": [
    {
     "name": "stderr",
     "output_type": "stream",
     "text": [
      "C:\\Users\\xuxin\\AppData\\Local\\Temp\\ipykernel_23712\\3045552549.py:17: FutureWarning: The frame.append method is deprecated and will be removed from pandas in a future version. Use pandas.concat instead.\n",
      "  new_data = self.__record.append(new_record, ignore_index=True)\n",
      "C:\\Users\\xuxin\\AppData\\Local\\Temp\\ipykernel_23712\\3045552549.py:11: UserWarning: Pandas doesn't allow columns to be created via a new attribute name - see https://pandas.pydata.org/pandas-docs/stable/indexing.html#attribute-access\n",
      "  self.__record = nutrition\n"
     ]
    }
   ],
   "source": [
    "r = r.add(\"2023/01/06\",212,176,167)"
   ]
  },
  {
   "cell_type": "code",
   "execution_count": 12,
   "id": "bb260e67-b57e-4ca6-876e-c45b21291b05",
   "metadata": {
    "tags": []
   },
   "outputs": [
    {
     "name": "stdout",
     "output_type": "stream",
     "text": [
      "Are you sure you want to delete the following record?\n",
      "         Date  Calorie  Protein  Carbon  Fat\n",
      "5 2023-01-06     3055      212     176  167\n"
     ]
    },
    {
     "name": "stdin",
     "output_type": "stream",
     "text": [
      "Enter [1] for \"YES\"/ [2] for \"NO\" (\"q\" to quit): 1\n"
     ]
    },
    {
     "data": {
      "text/html": [
       "<div>\n",
       "<style scoped>\n",
       "    .dataframe tbody tr th:only-of-type {\n",
       "        vertical-align: middle;\n",
       "    }\n",
       "\n",
       "    .dataframe tbody tr th {\n",
       "        vertical-align: top;\n",
       "    }\n",
       "\n",
       "    .dataframe thead th {\n",
       "        text-align: right;\n",
       "    }\n",
       "</style>\n",
       "<table border=\"1\" class=\"dataframe\">\n",
       "  <thead>\n",
       "    <tr style=\"text-align: right;\">\n",
       "      <th></th>\n",
       "      <th>Date</th>\n",
       "      <th>Calorie</th>\n",
       "      <th>Protein</th>\n",
       "      <th>Carbon</th>\n",
       "      <th>Fat</th>\n",
       "    </tr>\n",
       "  </thead>\n",
       "  <tbody>\n",
       "    <tr>\n",
       "      <th>0</th>\n",
       "      <td>2023-01-01</td>\n",
       "      <td>2838</td>\n",
       "      <td>273</td>\n",
       "      <td>156</td>\n",
       "      <td>283</td>\n",
       "    </tr>\n",
       "    <tr>\n",
       "      <th>1</th>\n",
       "      <td>2023-01-02</td>\n",
       "      <td>1736</td>\n",
       "      <td>176</td>\n",
       "      <td>198</td>\n",
       "      <td>73</td>\n",
       "    </tr>\n",
       "    <tr>\n",
       "      <th>2</th>\n",
       "      <td>2023-01-03</td>\n",
       "      <td>2521</td>\n",
       "      <td>352</td>\n",
       "      <td>203</td>\n",
       "      <td>199</td>\n",
       "    </tr>\n",
       "    <tr>\n",
       "      <th>3</th>\n",
       "      <td>2023-01-04</td>\n",
       "      <td>1864</td>\n",
       "      <td>61</td>\n",
       "      <td>127</td>\n",
       "      <td>76</td>\n",
       "    </tr>\n",
       "    <tr>\n",
       "      <th>4</th>\n",
       "      <td>2023-01-05</td>\n",
       "      <td>2239</td>\n",
       "      <td>346</td>\n",
       "      <td>231</td>\n",
       "      <td>230</td>\n",
       "    </tr>\n",
       "  </tbody>\n",
       "</table>\n",
       "</div>"
      ],
      "text/plain": [
       "        Date  Calorie  Protein  Carbon  Fat\n",
       "0 2023-01-01     2838      273     156  283\n",
       "1 2023-01-02     1736      176     198   73\n",
       "2 2023-01-03     2521      352     203  199\n",
       "3 2023-01-04     1864       61     127   76\n",
       "4 2023-01-05     2239      346     231  230"
      ]
     },
     "execution_count": 12,
     "metadata": {},
     "output_type": "execute_result"
    }
   ],
   "source": [
    "r.remove(\"2023/1/6\")"
   ]
  },
  {
   "cell_type": "code",
   "execution_count": 78,
   "id": "78583492-a41d-40b1-8927-45ad9fb11ec8",
   "metadata": {
    "tags": []
   },
   "outputs": [
    {
     "name": "stderr",
     "output_type": "stream",
     "text": [
      "C:\\Users\\xuxin\\AppData\\Local\\Temp\\ipykernel_23712\\3045552549.py:49: FutureWarning: Comparison of Timestamp with datetime.date is deprecated in order to match the standard library behavior. In a future version these will be considered non-comparable. Use 'ts == pd.Timestamp(date)' or 'ts.date() == date' instead.\n",
      "  row_to_modify = self.__record[self.__record[\"Date\"]==pd.to_datetime(date)]\n"
     ]
    },
    {
     "name": "stdout",
     "output_type": "stream",
     "text": [
      "The record you are going to change:\n",
      "                   Date  Calorie  Protein  Carbon  Fat\n",
      "4  2023-01-05 00:00:00     2239      346     231  230\n"
     ]
    },
    {
     "name": "stdin",
     "output_type": "stream",
     "text": [
      "Enter [1] for \"YES\"/ [2] for \"NO\" (\"q\" to quit): 1\n"
     ]
    },
    {
     "name": "stderr",
     "output_type": "stream",
     "text": [
      "C:\\Users\\xuxin\\AppData\\Local\\Temp\\ipykernel_23712\\3045552549.py:11: UserWarning: Pandas doesn't allow columns to be created via a new attribute name - see https://pandas.pydata.org/pandas-docs/stable/indexing.html#attribute-access\n",
      "  self.__record = nutrition\n"
     ]
    },
    {
     "data": {
      "text/html": [
       "<div>\n",
       "<style scoped>\n",
       "    .dataframe tbody tr th:only-of-type {\n",
       "        vertical-align: middle;\n",
       "    }\n",
       "\n",
       "    .dataframe tbody tr th {\n",
       "        vertical-align: top;\n",
       "    }\n",
       "\n",
       "    .dataframe thead th {\n",
       "        text-align: right;\n",
       "    }\n",
       "</style>\n",
       "<table border=\"1\" class=\"dataframe\">\n",
       "  <thead>\n",
       "    <tr style=\"text-align: right;\">\n",
       "      <th></th>\n",
       "      <th>Date</th>\n",
       "      <th>Calorie</th>\n",
       "      <th>Protein</th>\n",
       "      <th>Carbon</th>\n",
       "      <th>Fat</th>\n",
       "    </tr>\n",
       "  </thead>\n",
       "  <tbody>\n",
       "    <tr>\n",
       "      <th>0</th>\n",
       "      <td>2023-01-01 00:00:00</td>\n",
       "      <td>2838</td>\n",
       "      <td>273</td>\n",
       "      <td>156</td>\n",
       "      <td>283</td>\n",
       "    </tr>\n",
       "    <tr>\n",
       "      <th>1</th>\n",
       "      <td>2023-01-02 00:00:00</td>\n",
       "      <td>1736</td>\n",
       "      <td>176</td>\n",
       "      <td>198</td>\n",
       "      <td>73</td>\n",
       "    </tr>\n",
       "    <tr>\n",
       "      <th>2</th>\n",
       "      <td>2023-01-03 00:00:00</td>\n",
       "      <td>2521</td>\n",
       "      <td>352</td>\n",
       "      <td>203</td>\n",
       "      <td>199</td>\n",
       "    </tr>\n",
       "    <tr>\n",
       "      <th>3</th>\n",
       "      <td>2023-01-04 00:00:00</td>\n",
       "      <td>1864</td>\n",
       "      <td>61</td>\n",
       "      <td>127</td>\n",
       "      <td>76</td>\n",
       "    </tr>\n",
       "    <tr>\n",
       "      <th>4</th>\n",
       "      <td>2023-01-05 00:00:00</td>\n",
       "      <td>3347</td>\n",
       "      <td>188</td>\n",
       "      <td>129</td>\n",
       "      <td>231</td>\n",
       "    </tr>\n",
       "    <tr>\n",
       "      <th>5</th>\n",
       "      <td>2023-01-01</td>\n",
       "      <td>3055</td>\n",
       "      <td>212</td>\n",
       "      <td>176</td>\n",
       "      <td>167</td>\n",
       "    </tr>\n",
       "  </tbody>\n",
       "</table>\n",
       "</div>"
      ],
      "text/plain": [
       "                  Date  Calorie  Protein  Carbon  Fat\n",
       "0  2023-01-01 00:00:00     2838      273     156  283\n",
       "1  2023-01-02 00:00:00     1736      176     198   73\n",
       "2  2023-01-03 00:00:00     2521      352     203  199\n",
       "3  2023-01-04 00:00:00     1864       61     127   76\n",
       "4  2023-01-05 00:00:00     3347      188     129  231\n",
       "5           2023-01-01     3055      212     176  167"
      ]
     },
     "execution_count": 78,
     "metadata": {},
     "output_type": "execute_result"
    }
   ],
   "source": [
    "r.modify(\"2023-01-05\",188,129,231)"
   ]
  },
  {
   "cell_type": "code",
   "execution_count": 48,
   "id": "591b9006-c01b-4be8-a99c-86fd1a11ea96",
   "metadata": {
    "tags": []
   },
   "outputs": [
    {
     "name": "stdin",
     "output_type": "stream",
     "text": [
      "... 2023/01/06\n"
     ]
    },
    {
     "data": {
      "text/html": [
       "<div>\n",
       "<style scoped>\n",
       "    .dataframe tbody tr th:only-of-type {\n",
       "        vertical-align: middle;\n",
       "    }\n",
       "\n",
       "    .dataframe tbody tr th {\n",
       "        vertical-align: top;\n",
       "    }\n",
       "\n",
       "    .dataframe thead th {\n",
       "        text-align: right;\n",
       "    }\n",
       "</style>\n",
       "<table border=\"1\" class=\"dataframe\">\n",
       "  <thead>\n",
       "    <tr style=\"text-align: right;\">\n",
       "      <th></th>\n",
       "      <th>Date</th>\n",
       "      <th>Calorie</th>\n",
       "      <th>Protein</th>\n",
       "      <th>Carbon</th>\n",
       "      <th>Fat</th>\n",
       "    </tr>\n",
       "  </thead>\n",
       "  <tbody>\n",
       "    <tr>\n",
       "      <th>5</th>\n",
       "      <td>2023-01-06</td>\n",
       "      <td>3055</td>\n",
       "      <td>212</td>\n",
       "      <td>176</td>\n",
       "      <td>167</td>\n",
       "    </tr>\n",
       "  </tbody>\n",
       "</table>\n",
       "</div>"
      ],
      "text/plain": [
       "        Date  Calorie  Protein  Carbon  Fat\n",
       "5 2023-01-06     3055      212     176  167"
      ]
     },
     "execution_count": 48,
     "metadata": {},
     "output_type": "execute_result"
    }
   ],
   "source": [
    "d = input(\"...\")\n",
    "r[r[\"Date\"]==pd.to_datetime(d)]"
   ]
  },
  {
   "cell_type": "code",
   "execution_count": 71,
   "id": "3f6b2923-7698-40fa-ad6e-33a5e670846f",
   "metadata": {
    "tags": []
   },
   "outputs": [
    {
     "data": {
      "text/html": [
       "<div>\n",
       "<style scoped>\n",
       "    .dataframe tbody tr th:only-of-type {\n",
       "        vertical-align: middle;\n",
       "    }\n",
       "\n",
       "    .dataframe tbody tr th {\n",
       "        vertical-align: top;\n",
       "    }\n",
       "\n",
       "    .dataframe thead th {\n",
       "        text-align: right;\n",
       "    }\n",
       "</style>\n",
       "<table border=\"1\" class=\"dataframe\">\n",
       "  <thead>\n",
       "    <tr style=\"text-align: right;\">\n",
       "      <th></th>\n",
       "      <th>Date</th>\n",
       "      <th>Calorie</th>\n",
       "      <th>Protein</th>\n",
       "      <th>Carbon</th>\n",
       "      <th>Fat</th>\n",
       "    </tr>\n",
       "  </thead>\n",
       "  <tbody>\n",
       "  </tbody>\n",
       "</table>\n",
       "</div>"
      ],
      "text/plain": [
       "Empty DataFrame\n",
       "Columns: [Date, Calorie, Protein, Carbon, Fat]\n",
       "Index: []"
      ]
     },
     "execution_count": 71,
     "metadata": {},
     "output_type": "execute_result"
    }
   ],
   "source": [
    "d = pd.to_datetime(\"2023/01/01\").date()\n",
    "r[r[\"Date\"]==d]"
   ]
  },
  {
   "cell_type": "code",
   "execution_count": 88,
   "id": "69392ce8-6a69-442e-97e7-4f574d9b4e74",
   "metadata": {
    "tags": []
   },
   "outputs": [
    {
     "data": {
      "text/plain": [
       "False"
      ]
     },
     "execution_count": 88,
     "metadata": {},
     "output_type": "execute_result"
    }
   ],
   "source": [
    "\"2021/10/10\">\"2021/10/10\""
   ]
  }
 ],
 "metadata": {
  "kernelspec": {
   "display_name": "Python 3 (ipykernel)",
   "language": "python",
   "name": "python3"
  },
  "language_info": {
   "codemirror_mode": {
    "name": "ipython",
    "version": 3
   },
   "file_extension": ".py",
   "mimetype": "text/x-python",
   "name": "python",
   "nbconvert_exporter": "python",
   "pygments_lexer": "ipython3",
   "version": "3.11.5"
  }
 },
 "nbformat": 4,
 "nbformat_minor": 5
}
