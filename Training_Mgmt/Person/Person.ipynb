{
 "cells": [
  {
   "cell_type": "code",
   "execution_count": 32,
   "id": "f0b50ef9-55b0-40a6-a9a5-95b862673d08",
   "metadata": {
    "tags": []
   },
   "outputs": [],
   "source": [
    "import datetime\n",
    "import os\n",
    "import pandas as pd\n",
    "\n",
    "class Person:\n",
    "    \n",
    "    def __init__(self, name, bdate, height, weight, gender, purpose):\n",
    "        self.__name = name\n",
    "        self.__bdate = datetime.datetime(int(bdate[0]), int(bdate[1]), int(bdate[2]))\n",
    "        self.__height = height\n",
    "        self.__weight = weight\n",
    "        self.__gender = gender\n",
    "        self.__purpose = purpose\n",
    "        \n",
    "    @property\n",
    "    def name(self):\n",
    "        return self.__name\n",
    "    \n",
    "    @property\n",
    "    def age(self):\n",
    "        return (datetime.datetime.now() - self.__bdate).total_seconds()//(365.25*24*60*60)\n",
    "    \n",
    "    @property\n",
    "    def height(self):\n",
    "        return self.__height\n",
    "    \n",
    "    @height.setter\n",
    "    def height(self, value):\n",
    "        self.__height = height\n",
    "    \n",
    "    @property\n",
    "    def weight(self):\n",
    "        return self.__weight\n",
    "    \n",
    "    @weight.setter\n",
    "    def weight(self, value):\n",
    "        self.__weight = value\n",
    "        \n",
    "    @property\n",
    "    def gender(self):\n",
    "        return self.__gender\n",
    "    \n",
    "    @property\n",
    "    def purpose(self):\n",
    "        return self.__purpose\n",
    "    \n",
    "    @purpose.setter\n",
    "    def purpose(self, value):\n",
    "        self.__purpose = purpose"
   ]
  }
 ],
 "metadata": {
  "kernelspec": {
   "display_name": "Python 3 (ipykernel)",
   "language": "python",
   "name": "python3"
  },
  "language_info": {
   "codemirror_mode": {
    "name": "ipython",
    "version": 3
   },
   "file_extension": ".py",
   "mimetype": "text/x-python",
   "name": "python",
   "nbconvert_exporter": "python",
   "pygments_lexer": "ipython3",
   "version": "3.11.5"
  }
 },
 "nbformat": 4,
 "nbformat_minor": 5
}
