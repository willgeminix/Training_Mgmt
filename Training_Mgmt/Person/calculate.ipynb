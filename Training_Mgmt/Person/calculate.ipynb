{
 "cells": [
  {
   "cell_type": "code",
   "execution_count": null,
   "id": "8de8f246-ae32-48ec-8bb8-c0ab6ec0d669",
   "metadata": {},
   "outputs": [],
   "source": [
    "import random\n",
    "\n",
    "def bmr(person):\n",
    "    \n",
    "    if person.gender == \"Male\":\n",
    "        bmr = 88.362 + (13.397*person.weight) + (4.799*person.height) - (5.677*person.age)\n",
    "    else:\n",
    "        bmr = 447.593 + (9.247*person.weight) + (3.098*person.height) - (4.330*person.age)\n",
    "        \n",
    "    return bmr\n",
    "\n",
    "\n",
    "def tdee(person):\n",
    "    \n",
    "    bmr = bmr(person)\n",
    "    \n",
    "    active_factor = {\"No exercise\": 1.2, \"Lightly exercise\": 1.375, \"Moderately active\": 1.55, \"Very active\": 1.725, \"Super active\":1.9}    \n",
    "    tdee = bmr * active_factor[person.frequency]\n",
    "    \n",
    "    return tdee\n",
    "\n",
    "\n",
    "def calorie(person):\n",
    "    \n",
    "    calorie = tdee(person)\n",
    "    \n",
    "    if person.purposr == \"Bulking\":\n",
    "        calorie = tdee + round(random.uniform(250, 500))\n",
    "    else:\n",
    "        calorie = tdee + round(random.uniform(-1000, -500))\n",
    "        \n",
    "    return calorie\n",
    "\n",
    "\n",
    "def nutrition(person):\n",
    "    \n",
    "    calorie = calorie(person)\n",
    "    \n",
    "    if person.purpose == \"Bulking\":\n",
    "        protein = calorie * 0.4\n",
    "        carbon = calorie * random.uniform(0.3, 0.4)\n",
    "        fat = calorie - protein - carbon\n",
    "    \n",
    "    else:\n",
    "        protein = calorie * 0.65\n",
    "        carbon = calorie * random.uniform(0.15, 0.2)\n",
    "        fat = calorie - protein - carbon\n",
    "        \n",
    "    # change the unit of each nutrition to gram\n",
    "    protein = protein / 4\n",
    "    carbon = carbon / 4\n",
    "    fat = fat / 9\n",
    "    \n",
    "    return protein, carbon, fat"
   ]
  }
 ],
 "metadata": {
  "kernelspec": {
   "display_name": "Python 3 (ipykernel)",
   "language": "python",
   "name": "python3"
  },
  "language_info": {
   "codemirror_mode": {
    "name": "ipython",
    "version": 3
   },
   "file_extension": ".py",
   "mimetype": "text/x-python",
   "name": "python",
   "nbconvert_exporter": "python",
   "pygments_lexer": "ipython3",
   "version": "3.11.5"
  }
 },
 "nbformat": 4,
 "nbformat_minor": 5
}
